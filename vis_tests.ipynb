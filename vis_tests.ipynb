{
 "cells": [
  {
   "cell_type": "code",
   "execution_count": 1,
   "metadata": {},
   "outputs": [],
   "source": [
    "import sys\n",
    "import os\n",
    "sys.path.append(os.getcwd())\n",
    "from src.taxodist import td_utils as utils\n",
    "from src.taxodist import tree_parsers\n",
    "from src.taxodist import td_calc\n",
    "import pandas as pd\n",
    "import numpy as np\n",
    "import plotly.express as px\n",
    "import seaborn as sns\n",
    "import matplotlib.pylab as plt\n",
    "#plt.style.use(\"seaborn\")"
   ]
  },
  {
   "cell_type": "code",
   "execution_count": 2,
   "metadata": {},
   "outputs": [],
   "source": [
    "df_hd_moltb = pd.read_excel('analysis/resources/pseudo_icd10_hauptdiagnose_moltb.xlsx')\n",
    "df_pancreas_hd = df_hd_moltb[df_hd_moltb['ICD-10 Hauptdiagnose'].str.contains('C25')]\n",
    "\n",
    "df_moltb = pd.read_excel('analysis/resources/pseudo_icd10_moltb.xlsx')\n",
    "df_patient_icd = df_moltb.groupby(df_moltb.PseudoPatNr.name)['ICD'].agg(list).reset_index(name='ICD')\n",
    "df_pancreas_patient = df_patient_icd[df_patient_icd['PseudoPatNr'].isin(df_pancreas_hd['Pseudonym'])]\n",
    "\n",
    "pancreas_patient_array = df_pancreas_patient.to_numpy()\n",
    "pancreas_icd_sets = [set(icd_list) for patient, icd_list in pancreas_patient_array]\n"
   ]
  },
  {
   "cell_type": "code",
   "execution_count": null,
   "metadata": {},
   "outputs": [],
   "source": [
    "tree = tree_parsers.getICD10GMTree(version='2021')\n",
    "td = td_calc.Taxodist()\n",
    "# use taxodist to calculate similarity of all patients\n",
    "dist_matrix = td.calc_set_sim(pancreas_icd_sets,tree,'levels','nguyen_almubaid','bipartite_matching',normalize=False)\n",
    "\n",
    "df_mds_coordinates = utils.getMDSMatrix(dist_matrix)\n"
   ]
  },
  {
   "cell_type": "code",
   "execution_count": 15,
   "metadata": {},
   "outputs": [
    {
     "ename": "TypeError",
     "evalue": "read_excel() got an unexpected keyword argument 'column_names'",
     "output_type": "error",
     "traceback": [
      "\u001b[1;31m---------------------------------------------------------------------------\u001b[0m",
      "\u001b[1;31mTypeError\u001b[0m                                 Traceback (most recent call last)",
      "\u001b[1;32md:\\Documents\\Uni\\MedInf\\Praktikum\\Jonas\\taxodist\\vis_tests.ipynb Cell 4'\u001b[0m in \u001b[0;36m<cell line: 2>\u001b[1;34m()\u001b[0m\n\u001b[0;32m      <a href='vscode-notebook-cell:/d%3A/Documents/Uni/MedInf/Praktikum/Jonas/taxodist/vis_tests.ipynb#ch0000003?line=0'>1</a>\u001b[0m setnames \u001b[39m=\u001b[39m [\u001b[39m'\u001b[39m\u001b[39mpatient \u001b[39m\u001b[39m'\u001b[39m \u001b[39m+\u001b[39m \u001b[39mstr\u001b[39m(count) \u001b[39mfor\u001b[39;00m count, vals \u001b[39min\u001b[39;00m \u001b[39menumerate\u001b[39m(pancreas_patient_array,start\u001b[39m=\u001b[39m\u001b[39m1\u001b[39m)]\n\u001b[1;32m----> <a href='vscode-notebook-cell:/d%3A/Documents/Uni/MedInf/Praktikum/Jonas/taxodist/vis_tests.ipynb#ch0000003?line=1'>2</a>\u001b[0m dist_matrix \u001b[39m=\u001b[39m pd\u001b[39m.\u001b[39;49mread_excel(\u001b[39m'\u001b[39;49m\u001b[39manalysis/generated/matrices/pancreas_pats_dist_L_NA_BIP.xlsx\u001b[39;49m\u001b[39m'\u001b[39;49m,column_names\u001b[39m=\u001b[39;49msetnames)\n\u001b[0;32m      <a href='vscode-notebook-cell:/d%3A/Documents/Uni/MedInf/Praktikum/Jonas/taxodist/vis_tests.ipynb#ch0000003?line=2'>3</a>\u001b[0m dist_matrix \u001b[39m=\u001b[39m dist_matrix\u001b[39m.\u001b[39mto_numpy()\n\u001b[0;32m      <a href='vscode-notebook-cell:/d%3A/Documents/Uni/MedInf/Praktikum/Jonas/taxodist/vis_tests.ipynb#ch0000003?line=3'>4</a>\u001b[0m df_mds_coordinates \u001b[39m=\u001b[39m utils\u001b[39m.\u001b[39mgetMDSMatrix(dist_matrix)\n",
      "File \u001b[1;32mc:\\Users\\Besitzer\\AppData\\Local\\Programs\\Python\\Python39\\lib\\site-packages\\pandas\\util\\_decorators.py:311\u001b[0m, in \u001b[0;36mdeprecate_nonkeyword_arguments.<locals>.decorate.<locals>.wrapper\u001b[1;34m(*args, **kwargs)\u001b[0m\n\u001b[0;32m    305\u001b[0m \u001b[39mif\u001b[39;00m \u001b[39mlen\u001b[39m(args) \u001b[39m>\u001b[39m num_allow_args:\n\u001b[0;32m    306\u001b[0m     warnings\u001b[39m.\u001b[39mwarn(\n\u001b[0;32m    307\u001b[0m         msg\u001b[39m.\u001b[39mformat(arguments\u001b[39m=\u001b[39marguments),\n\u001b[0;32m    308\u001b[0m         \u001b[39mFutureWarning\u001b[39;00m,\n\u001b[0;32m    309\u001b[0m         stacklevel\u001b[39m=\u001b[39mstacklevel,\n\u001b[0;32m    310\u001b[0m     )\n\u001b[1;32m--> 311\u001b[0m \u001b[39mreturn\u001b[39;00m func(\u001b[39m*\u001b[39margs, \u001b[39m*\u001b[39m\u001b[39m*\u001b[39mkwargs)\n",
      "\u001b[1;31mTypeError\u001b[0m: read_excel() got an unexpected keyword argument 'column_names'"
     ]
    }
   ],
   "source": [
    "setnames = ['patient ' + str(count) for count, vals in enumerate(pancreas_patient_array,start=1)]\n",
    "dist_matrix = pd.read_excel('analysis/generated/matrices/pancreas_pats_dist_L_NA_BIP.xlsx')\n",
    "dist_matrix = dist_matrix.to_numpy()\n",
    "df_mds_coordinates = utils.getMDSMatrix(dist_matrix)\n",
    "df_mds_coordinates.set_axis(setnames)\n",
    "df_mds_coordinates.set_index(setnames)\n",
    "# utils.plotDistMatrix(df_mds_coordinates,setnames)\n",
    "\n",
    "fig = px.scatter(x=df_mds_coordinates[0],y=df_mds_coordinates[1],labels=setnames,hover_data='0')\n",
    "fig.show()"
   ]
  },
  {
   "cell_type": "code",
   "execution_count": 5,
   "metadata": {},
   "outputs": [
    {
     "data": {
      "text/plain": [
       "0     -16.078000\n",
       "1     -91.828819\n",
       "2       1.902028\n",
       "3     -44.394217\n",
       "4     129.742997\n",
       "5      84.620820\n",
       "6      50.681458\n",
       "7     -59.962456\n",
       "8     -30.864941\n",
       "9     -73.227161\n",
       "10    -29.542113\n",
       "11    -57.525903\n",
       "12   -104.130909\n",
       "13    -75.503745\n",
       "14    115.216377\n",
       "15    -91.112581\n",
       "16     24.573659\n",
       "17    -27.306935\n",
       "18     33.015512\n",
       "19    -53.605134\n",
       "20     45.874546\n",
       "21    -81.905487\n",
       "22     66.001779\n",
       "23     -2.966893\n",
       "24     52.841669\n",
       "25     33.934757\n",
       "26     70.289374\n",
       "27     39.579229\n",
       "28     91.681091\n",
       "Name: 0, dtype: float64"
      ]
     },
     "execution_count": 5,
     "metadata": {},
     "output_type": "execute_result"
    }
   ],
   "source": [
    "df_mds_coordinates[0]"
   ]
  },
  {
   "cell_type": "code",
   "execution_count": null,
   "metadata": {},
   "outputs": [],
   "source": [
    "tree = tree_parsers.getICD10GMTree()\n",
    "depth = tree.depth()\n",
    "td = td_calc.Taxodist()\n",
    "\n",
    "set1 = {'C00.0','C02.0','C04.0','C05.0','C06.0'}\n",
    "set2 = {'D00.0','C02.0','C04.0','C05.0','C06.0'}\n",
    "set3 = {'D00.0','D02.0','C04.0','C05.0','C06.0'}\n",
    "set4 = {'D00.0','D02.0','D04.0','C05.0','C06.0'}\n",
    "set5 = {'D00.0','D02.0','D04.0','D05.0','C06.0'}\n",
    "\n",
    "# sets = [utils.getRandomConcepts(10,tree) for x in range(0,10)]\n",
    "sets = [set1,set2,set3,set4,set5]\n",
    "column_names=['Hauptdiagnose','ND1','ND2','ND3','ND4',]\n",
    "\n",
    "setnames = ['patient ' + str(x) for x in range(1,6)]"
   ]
  },
  {
   "cell_type": "code",
   "execution_count": null,
   "metadata": {},
   "outputs": [],
   "source": [
    "dist_matrix = td.calc_set_sim(sets,tree,'levels','nguyen_almubaid','bipartite_matching')\n",
    "sim_matrix = 1.0 - dist_matrix.round(3)\n",
    "df_mds_coordinates = utils.getMDSMatrix(dist_matrix)\n",
    "\n",
    "# fig = px.sunburst(\n",
    "# sets,\n",
    "# names='character',\n",
    "# parents='parent',\n",
    "# values='value',\n",
    "# )\n",
    "# fig.show()\n",
    "\n",
    "\n",
    "utils.plotDistMatrix(df_mds_coordinates,setnames)\n",
    "dist_matrix"
   ]
  },
  {
   "cell_type": "code",
   "execution_count": null,
   "metadata": {},
   "outputs": [],
   "source": [
    "dist_matrix = td.calc_set_sim(sets,tree,'levels','nguyen_almubaid','bipartite_matching',normalize=False)\n",
    "sim_matrix = 1.0 - dist_matrix.round(3)\n",
    "df_mds_coordinates = utils.getMDSMatrix(dist_matrix)\n",
    "\n",
    "# fig = px.sunburst(\n",
    "# sets,\n",
    "# names='character',\n",
    "# parents='parent',\n",
    "# values='value',\n",
    "# )\n",
    "# fig.show()\n",
    "\n",
    "\n",
    "utils.plotDistMatrix(df_mds_coordinates,setnames)"
   ]
  },
  {
   "cell_type": "code",
   "execution_count": null,
   "metadata": {},
   "outputs": [],
   "source": [
    "df_sets = pd.DataFrame([['C00.0','C02.0','C04.0','C05.0','C06.0'],['D00.0','C02.0','C04.0','C05.0','C06.0'],['D00.0','D02.0','C04.0','C05.0',\n",
    "            'C06.0'],['D00.0','D02.0','D04.0','C05.0','C06.0'],['D00.0','D02.0','D04.0','D05.0','C06.0']],index=setnames,columns=column_names)\n",
    "\n",
    "df_hd = df_sets.Hauptdiagnose.unique()\n",
    "nd = [df_sets[c].unique() for c in df_sets.columns[1:5]]\n",
    "nd_flat = flat_list = [item for sublist in nd for item in sublist]\n",
    "\n",
    "#ct = pd.crosstab(index=df_sets.Hauptdiagnose,columns=df_sets.columns,ag)\n",
    "#ct"
   ]
  },
  {
   "cell_type": "code",
   "execution_count": null,
   "metadata": {},
   "outputs": [],
   "source": []
  }
 ],
 "metadata": {
  "kernelspec": {
   "display_name": "Python 3.9.6 64-bit",
   "language": "python",
   "name": "python3"
  },
  "language_info": {
   "codemirror_mode": {
    "name": "ipython",
    "version": 3
   },
   "file_extension": ".py",
   "mimetype": "text/x-python",
   "name": "python",
   "nbconvert_exporter": "python",
   "pygments_lexer": "ipython3",
   "version": "3.9.6"
  },
  "orig_nbformat": 4,
  "vscode": {
   "interpreter": {
    "hash": "c615a9b4732d4ee6f80b9be2d4cc90e7e8efb9b8c706b5a26d1c216fc70885fe"
   }
  }
 },
 "nbformat": 4,
 "nbformat_minor": 2
}
