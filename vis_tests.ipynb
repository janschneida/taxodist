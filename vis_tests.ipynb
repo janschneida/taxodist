{
 "cells": [
  {
   "cell_type": "code",
   "execution_count": 2,
   "metadata": {},
   "outputs": [],
   "source": [
    "import sys\n",
    "import os\n",
    "sys.path.append(os.getcwd())\n",
    "from src.taxodist import td_utils as utils\n",
    "from src.taxodist import tree_parsers\n",
    "from src.taxodist import td_calc\n",
    "import pandas as pd\n",
    "import numpy as np\n",
    "import plotly.express as px\n",
    "import seaborn as sns\n",
    "import matplotlib.pylab as plt\n",
    "plt.style.use(\"seaborn\")"
   ]
  },
  {
   "cell_type": "code",
   "execution_count": null,
   "metadata": {},
   "outputs": [],
   "source": [
    "tree = tree_parsers.getICD10GMTree()\n",
    "depth = tree.depth()\n",
    "td = td_calc.Taxodist()\n",
    "\n",
    "set1 = {'C00.0','C02.0','C04.0','C05.0','C06.0'}\n",
    "set2 = {'D00.0','C02.0','C04.0','C05.0','C06.0'}\n",
    "set3 = {'D00.0','D02.0','C04.0','C05.0','C06.0'}\n",
    "set4 = {'D00.0','D02.0','D04.0','C05.0','C06.0'}\n",
    "set5 = {'D00.0','D02.0','D04.0','D05.0','C06.0'}\n",
    "\n",
    "# sets = [utils.getRandomConcepts(10,tree) for x in range(0,10)]\n",
    "sets = [set1,set2,set3,set4,set5]\n",
    "column_names=['Hauptdiagnose','ND1','ND2','ND3','ND4',]\n",
    "\n",
    "setnames = ['patient ' + str(x) for x in range(1,6)]"
   ]
  },
  {
   "cell_type": "code",
   "execution_count": null,
   "metadata": {},
   "outputs": [],
   "source": [
    "dist_matrix = td.calc_set_sim(sets,tree,'levels','nguyen_almubaid','bipartite_matching')\n",
    "sim_matrix = 1.0 - dist_matrix.round(3)\n",
    "df_mds_coordinates = utils.getMDSMatrix(dist_matrix)\n",
    "\n",
    "# fig = px.sunburst(\n",
    "# sets,\n",
    "# names='character',\n",
    "# parents='parent',\n",
    "# values='value',\n",
    "# )\n",
    "# fig.show()\n",
    "\n",
    "\n",
    "utils.plotDistMatrix(df_mds_coordinates,setnames)\n",
    "dist_matrix"
   ]
  },
  {
   "cell_type": "code",
   "execution_count": null,
   "metadata": {},
   "outputs": [],
   "source": [
    "dist_matrix = td.calc_set_sim(sets,tree,'levels','nguyen_almubaid','bipartite_matching',normalize=False)\n",
    "sim_matrix = 1.0 - dist_matrix.round(3)\n",
    "df_mds_coordinates = utils.getMDSMatrix(dist_matrix)\n",
    "\n",
    "# fig = px.sunburst(\n",
    "# sets,\n",
    "# names='character',\n",
    "# parents='parent',\n",
    "# values='value',\n",
    "# )\n",
    "# fig.show()\n",
    "\n",
    "\n",
    "utils.plotDistMatrix(df_mds_coordinates,setnames)"
   ]
  },
  {
   "cell_type": "code",
   "execution_count": null,
   "metadata": {},
   "outputs": [],
   "source": [
    "df_sets = pd.DataFrame([['C00.0','C02.0','C04.0','C05.0','C06.0'],['D00.0','C02.0','C04.0','C05.0','C06.0'],['D00.0','D02.0','C04.0','C05.0',\n",
    "            'C06.0'],['D00.0','D02.0','D04.0','C05.0','C06.0'],['D00.0','D02.0','D04.0','D05.0','C06.0']],index=setnames,columns=column_names)\n",
    "\n",
    "df_hd = df_sets.Hauptdiagnose.unique()\n",
    "nd = [df_sets[c].unique() for c in df_sets.columns[1:5]]\n",
    "nd_flat = flat_list = [item for sublist in nd for item in sublist]\n",
    "\n",
    "#ct = pd.crosstab(index=df_sets.Hauptdiagnose,columns=df_sets.columns,ag)\n",
    "#ct"
   ]
  },
  {
   "cell_type": "code",
   "execution_count": 3,
   "metadata": {},
   "outputs": [],
   "source": [
    "df_moltb = pd.read_excel(\"pseudo_icd10_moltb.xlsx\")\n",
    "patient_icd = df_moltb.groupby(df_moltb.PseudoPatNr.name)['ICD'].agg(list).reset_index(name='ICD')\n",
    "\n",
    "patient_icd_array = patient_icd.to_numpy()\n",
    "moltb_icd_sets = [set(icd_list) for patient, icd_list in patient_icd_array]\n"
   ]
  },
  {
   "cell_type": "code",
   "execution_count": 4,
   "metadata": {},
   "outputs": [],
   "source": [
    "tree = tree_parsers.getICD10GMTree()\n",
    "depth = tree.depth()\n",
    "td = td_calc.Taxodist()\n",
    "\n",
    "setnames = ['patient ' + str(x) for x in range(1,153)]"
   ]
  },
  {
   "cell_type": "code",
   "execution_count": 5,
   "metadata": {},
   "outputs": [
    {
     "ename": "NodeIDAbsentError",
     "evalue": "Node 'I10.00' is not in the tree",
     "output_type": "error",
     "traceback": [
      "\u001b[1;31m---------------------------------------------------------------------------\u001b[0m",
      "\u001b[1;31mNodeIDAbsentError\u001b[0m                         Traceback (most recent call last)",
      "\u001b[1;32md:\\Documents\\Uni\\MedInf\\Praktikum\\Jonas\\taxodist\\vis_tests.ipynb Cell 8'\u001b[0m in \u001b[0;36m<cell line: 1>\u001b[1;34m()\u001b[0m\n\u001b[1;32m----> <a href='vscode-notebook-cell:/d%3A/Documents/Uni/MedInf/Praktikum/Jonas/taxodist/vis_tests.ipynb#ch0000008?line=0'>1</a>\u001b[0m dist_matrix \u001b[39m=\u001b[39m td\u001b[39m.\u001b[39;49mcalc_set_sim(moltb_icd_sets,tree,\u001b[39m'\u001b[39;49m\u001b[39mlevels\u001b[39;49m\u001b[39m'\u001b[39;49m,\u001b[39m'\u001b[39;49m\u001b[39mnguyen_almubaid\u001b[39;49m\u001b[39m'\u001b[39;49m,\u001b[39m'\u001b[39;49m\u001b[39mbipartite_matching\u001b[39;49m\u001b[39m'\u001b[39;49m,normalize\u001b[39m=\u001b[39;49m\u001b[39mFalse\u001b[39;49;00m)\n\u001b[0;32m      <a href='vscode-notebook-cell:/d%3A/Documents/Uni/MedInf/Praktikum/Jonas/taxodist/vis_tests.ipynb#ch0000008?line=1'>2</a>\u001b[0m sim_matrix \u001b[39m=\u001b[39m \u001b[39m1.0\u001b[39m \u001b[39m-\u001b[39m dist_matrix\u001b[39m.\u001b[39mround(\u001b[39m3\u001b[39m)\n\u001b[0;32m      <a href='vscode-notebook-cell:/d%3A/Documents/Uni/MedInf/Praktikum/Jonas/taxodist/vis_tests.ipynb#ch0000008?line=2'>3</a>\u001b[0m df_mds_coordinates \u001b[39m=\u001b[39m utils\u001b[39m.\u001b[39mgetMDSMatrix(dist_matrix)\n",
      "File \u001b[1;32md:\\Documents\\Uni\\MedInf\\Praktikum\\Jonas\\taxodist\\src\\taxodist\\td_calc.py:117\u001b[0m, in \u001b[0;36mTaxodist.calc_set_sim\u001b[1;34m(self, sets, tree, ic_mode, cs_mode, setsim_mode, normalize)\u001b[0m\n\u001b[0;32m    115\u001b[0m set1_index \u001b[39m=\u001b[39m sets\u001b[39m.\u001b[39mindex(set1)\n\u001b[0;32m    116\u001b[0m \u001b[39mfor\u001b[39;00m set2 \u001b[39min\u001b[39;00m sets[set1_index:]:\n\u001b[1;32m--> 117\u001b[0m     setsim \u001b[39m=\u001b[39m utils\u001b[39m.\u001b[39;49mgetSetSim(\u001b[39mset\u001b[39;49m(set1), \u001b[39mset\u001b[39;49m(set2),tree\u001b[39m=\u001b[39;49mtree,cs_mode\u001b[39m=\u001b[39;49mcs_mode, ic_mode\u001b[39m=\u001b[39;49mic_mode, setsim_mode\u001b[39m=\u001b[39;49msetsim_mode)\n\u001b[0;32m    118\u001b[0m     matrix[i, sets\u001b[39m.\u001b[39mindex(set2)] \u001b[39m=\u001b[39m setsim\n\u001b[0;32m    119\u001b[0m i\u001b[39m+\u001b[39m\u001b[39m=\u001b[39m\u001b[39m1\u001b[39m\n",
      "File \u001b[1;32md:\\Documents\\Uni\\MedInf\\Praktikum\\Jonas\\taxodist\\src\\taxodist\\td_utils.py:147\u001b[0m, in \u001b[0;36mgetSetSim\u001b[1;34m(concepts_1, concepts_2, setsim_mode, tree, cs_mode, ic_mode)\u001b[0m\n\u001b[0;32m    145\u001b[0m     \u001b[39mreturn\u001b[39;00m setsim_algorithms\u001b[39m.\u001b[39mgetHierachicalDistSetSim(concepts_1, concepts_2, tree, cs_mode, ic_mode)\n\u001b[0;32m    146\u001b[0m \u001b[39melif\u001b[39;00m setsim_mode \u001b[39m==\u001b[39m \u001b[39m'\u001b[39m\u001b[39mbipartite_matching\u001b[39m\u001b[39m'\u001b[39m:\n\u001b[1;32m--> 147\u001b[0m     \u001b[39mreturn\u001b[39;00m setsim_algorithms\u001b[39m.\u001b[39;49mgetMaxWeightedBipartiteMatchingSim(concepts_1,concepts_2,tree,ic_mode,cs_mode)\n\u001b[0;32m    148\u001b[0m \u001b[39melse\u001b[39;00m:\n\u001b[0;32m    149\u001b[0m     \u001b[39mraise\u001b[39;00m \u001b[39mValueError\u001b[39;00m(\u001b[39m\"\u001b[39m\u001b[39mUnsupported setsim algorithm: \u001b[39m\u001b[39m\"\u001b[39m, setsim_mode)\n",
      "File \u001b[1;32md:\\Documents\\Uni\\MedInf\\Praktikum\\Jonas\\taxodist\\src\\taxodist\\setsim_algorithms.py:81\u001b[0m, in \u001b[0;36mgetMaxWeightedBipartiteMatchingSim\u001b[1;34m(concepts_1, concepts_2, tree, ic_mode, cs_mode)\u001b[0m\n\u001b[0;32m     76\u001b[0m \u001b[39m''' Weighted undirected bipartite Graph with weight function CS(a,b). \u001b[39;00m\n\u001b[0;32m     77\u001b[0m \u001b[39m    Matching = subset of edges with max weights aka highest similarity (or min weights for distance measures) for the two given concept-sets. \\n\u001b[39;00m\n\u001b[0;32m     78\u001b[0m \u001b[39m    Returns max-sum (or min-sum) of the weighted edges. '''\u001b[39;00m \n\u001b[0;32m     80\u001b[0m \u001b[39m# get pairwise-sim/dist matrix for bipartite matching\u001b[39;00m\n\u001b[1;32m---> 81\u001b[0m cs_matrix \u001b[39m=\u001b[39m utils\u001b[39m.\u001b[39;49mgetCSMatrix(\u001b[39mlist\u001b[39;49m(concepts_1), \u001b[39mlist\u001b[39;49m(concepts_2), tree, ic_mode, cs_mode)\n\u001b[0;32m     83\u001b[0m \u001b[39m# min for distance measures, max for similarity measures\u001b[39;00m\n\u001b[0;32m     84\u001b[0m \u001b[39mif\u001b[39;00m cs_mode \u001b[39m!=\u001b[39m \u001b[39m\"\u001b[39m\u001b[39mnguyen_almubaid\u001b[39m\u001b[39m\"\u001b[39m:\n\u001b[0;32m     85\u001b[0m \n\u001b[0;32m     86\u001b[0m     \u001b[39m# calculate max similarity using hungarian algorithm\u001b[39;00m\n",
      "File \u001b[1;32md:\\Documents\\Uni\\MedInf\\Praktikum\\Jonas\\taxodist\\src\\taxodist\\td_utils.py:265\u001b[0m, in \u001b[0;36mgetCSMatrix\u001b[1;34m(concepts_1, concepts_2, tree, ic_mode, cs_mode)\u001b[0m\n\u001b[0;32m    263\u001b[0m     \u001b[39mfor\u001b[39;00m concept2 \u001b[39min\u001b[39;00m concepts_2:\n\u001b[0;32m    264\u001b[0m         c2_index \u001b[39m=\u001b[39m concepts_2\u001b[39m.\u001b[39mindex(concept2)\n\u001b[1;32m--> 265\u001b[0m         cs_matrix[c1_index,c2_index] \u001b[39m=\u001b[39m getCS(concept1,concept2,tree,depth,ic_mode,cs_mode)\n\u001b[0;32m    267\u001b[0m \u001b[39mreturn\u001b[39;00m cs_matrix\n",
      "File \u001b[1;32md:\\Documents\\Uni\\MedInf\\Praktikum\\Jonas\\taxodist\\src\\taxodist\\td_utils.py:88\u001b[0m, in \u001b[0;36mgetCS\u001b[1;34m(concept1, concept2, tree, depth, ic_mode, cs_mode)\u001b[0m\n\u001b[0;32m     85\u001b[0m     \u001b[39melif\u001b[39;00m cs_mode \u001b[39m==\u001b[39m \u001b[39m'\u001b[39m\u001b[39mpath_based\u001b[39m\u001b[39m'\u001b[39m:\n\u001b[0;32m     86\u001b[0m         \u001b[39mreturn\u001b[39;00m \u001b[39m0.0\u001b[39m\n\u001b[1;32m---> 88\u001b[0m lca \u001b[39m=\u001b[39m getLCA(concept1, concept2, tree, ic_mode)\n\u001b[0;32m     89\u001b[0m ic_lca \u001b[39m=\u001b[39m getIC(lca, tree,ic_mode)\n\u001b[0;32m     90\u001b[0m ic_1 \u001b[39m=\u001b[39m getIC(concept1,tree,ic_mode)\n",
      "File \u001b[1;32md:\\Documents\\Uni\\MedInf\\Praktikum\\Jonas\\taxodist\\src\\taxodist\\td_utils.py:52\u001b[0m, in \u001b[0;36mgetLCA\u001b[1;34m(concept1, concept2, tree, ic_mode)\u001b[0m\n\u001b[0;32m     50\u001b[0m \u001b[39m\"\"\"Return lowest common ancester of two concepts.\"\"\"\u001b[39;00m\n\u001b[0;32m     51\u001b[0m lca \u001b[39m=\u001b[39m \u001b[39m0\u001b[39m\n\u001b[1;32m---> 52\u001b[0m ca \u001b[39m=\u001b[39m \u001b[39mlist\u001b[39m(getAncestors(concept1, tree)\u001b[39m.\u001b[39mintersection(getAncestors(concept2, tree)))\n\u001b[0;32m     53\u001b[0m \u001b[39mif\u001b[39;00m \u001b[39mlen\u001b[39m(ca) \u001b[39m!=\u001b[39m \u001b[39m0\u001b[39m:\n\u001b[0;32m     54\u001b[0m     lca \u001b[39m=\u001b[39m ca[\u001b[39m0\u001b[39m]\n",
      "File \u001b[1;32md:\\Documents\\Uni\\MedInf\\Praktikum\\Jonas\\taxodist\\src\\taxodist\\td_utils.py:66\u001b[0m, in \u001b[0;36mgetAncestors\u001b[1;34m(concept, tree)\u001b[0m\n\u001b[0;32m     64\u001b[0m     \u001b[39mreturn\u001b[39;00m \u001b[39mset\u001b[39m()\n\u001b[0;32m     65\u001b[0m ancestors \u001b[39m=\u001b[39m []\n\u001b[1;32m---> 66\u001b[0m parent: Node \u001b[39m=\u001b[39m tree\u001b[39m.\u001b[39;49mparent(concept)\n\u001b[0;32m     67\u001b[0m \u001b[39mwhile\u001b[39;00m tree\u001b[39m.\u001b[39mdepth(parent\u001b[39m.\u001b[39midentifier) \u001b[39m>\u001b[39m\u001b[39m=\u001b[39m \u001b[39m0\u001b[39m:\n\u001b[0;32m     68\u001b[0m     ancestors\u001b[39m.\u001b[39mappend(parent\u001b[39m.\u001b[39midentifier)\n",
      "File \u001b[1;32mc:\\Users\\Besitzer\\AppData\\Local\\Programs\\Python\\Python39\\lib\\site-packages\\treelib\\tree.py:596\u001b[0m, in \u001b[0;36mTree.parent\u001b[1;34m(self, nid)\u001b[0m\n\u001b[0;32m    594\u001b[0m \u001b[39m\"\"\"Get parent :class:`Node` object of given id.\"\"\"\u001b[39;00m\n\u001b[0;32m    595\u001b[0m \u001b[39mif\u001b[39;00m \u001b[39mnot\u001b[39;00m \u001b[39mself\u001b[39m\u001b[39m.\u001b[39mcontains(nid):\n\u001b[1;32m--> 596\u001b[0m     \u001b[39mraise\u001b[39;00m NodeIDAbsentError(\u001b[39m\"\u001b[39m\u001b[39mNode \u001b[39m\u001b[39m'\u001b[39m\u001b[39m%s\u001b[39;00m\u001b[39m'\u001b[39m\u001b[39m is not in the tree\u001b[39m\u001b[39m\"\u001b[39m \u001b[39m%\u001b[39m nid)\n\u001b[0;32m    598\u001b[0m pid \u001b[39m=\u001b[39m \u001b[39mself\u001b[39m[nid]\u001b[39m.\u001b[39mpredecessor(\u001b[39mself\u001b[39m\u001b[39m.\u001b[39m_identifier)\n\u001b[0;32m    599\u001b[0m \u001b[39mif\u001b[39;00m pid \u001b[39mis\u001b[39;00m \u001b[39mNone\u001b[39;00m \u001b[39mor\u001b[39;00m \u001b[39mnot\u001b[39;00m \u001b[39mself\u001b[39m\u001b[39m.\u001b[39mcontains(pid):\n",
      "\u001b[1;31mNodeIDAbsentError\u001b[0m: Node 'I10.00' is not in the tree"
     ]
    }
   ],
   "source": [
    "dist_matrix = td.calc_set_sim(moltb_icd_sets,tree,'levels','nguyen_almubaid','bipartite_matching',normalize=False)\n",
    "sim_matrix = 1.0 - dist_matrix.round(3)\n",
    "df_mds_coordinates = utils.getMDSMatrix(dist_matrix)\n",
    "\n",
    "utils.plotDistMatrix(df_mds_coordinates,setnames)"
   ]
  },
  {
   "cell_type": "code",
   "execution_count": null,
   "metadata": {},
   "outputs": [],
   "source": [
    "subtree = tree.subtree('E10-E14')\n",
    "subtree.show()"
   ]
  },
  {
   "cell_type": "code",
   "execution_count": null,
   "metadata": {},
   "outputs": [],
   "source": []
  }
 ],
 "metadata": {
  "kernelspec": {
   "display_name": "Python 3.9.6 64-bit",
   "language": "python",
   "name": "python3"
  },
  "language_info": {
   "codemirror_mode": {
    "name": "ipython",
    "version": 3
   },
   "file_extension": ".py",
   "mimetype": "text/x-python",
   "name": "python",
   "nbconvert_exporter": "python",
   "pygments_lexer": "ipython3",
   "version": "3.9.6"
  },
  "orig_nbformat": 4,
  "vscode": {
   "interpreter": {
    "hash": "c615a9b4732d4ee6f80b9be2d4cc90e7e8efb9b8c706b5a26d1c216fc70885fe"
   }
  }
 },
 "nbformat": 4,
 "nbformat_minor": 2
}
