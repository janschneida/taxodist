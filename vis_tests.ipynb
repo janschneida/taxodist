{
 "cells": [
  {
   "cell_type": "code",
   "execution_count": 40,
   "metadata": {},
   "outputs": [],
   "source": [
    "import sys\n",
    "import os\n",
    "sys.path.append(os.getcwd())\n",
    "from src.taxodist import td_utils as utils\n",
    "from src.taxodist import tree_parsers\n",
    "from src.taxodist import td_calc\n",
    "import pandas as pd\n",
    "import numpy as np\n",
    "import plotly.express as px\n",
    "import seaborn as sns\n",
    "import matplotlib.pylab as plt\n",
    "\n",
    "tree = tree_parsers.getICD10GMTree(version='2021')\n",
    "td = td_calc.Taxodist()\n",
    "#plt.style.use(\"seaborn\")"
   ]
  },
  {
   "cell_type": "code",
   "execution_count": 11,
   "metadata": {},
   "outputs": [],
   "source": [
    "df_hd_moltb = pd.read_excel('analysis/resources/pseudo_icd10_hauptdiagnose_moltb.xlsx')\n",
    "df_pancreas_hd = df_hd_moltb[df_hd_moltb['ICD-10 Hauptdiagnose'].str.contains('C25')]\n",
    "\n",
    "df_moltb = pd.read_excel('analysis/resources/pseudo_icd10_moltb.xlsx')\n",
    "df_patient_icd = df_moltb.groupby(df_moltb.PseudoPatNr.name)['ICD'].agg(set).reset_index(name='ICD')\n",
    "df_pancreas_patient = df_patient_icd[df_patient_icd['PseudoPatNr'].isin(df_pancreas_hd['Pseudonym'])]\n",
    "\n",
    "patient_diagnoses = df_pancreas_patient['ICD'].to_numpy()\n",
    "patient_diagnoses = [str(diag_set) for diag_set in patient_diagnoses]\n",
    "\n",
    "pancreas_patient_array = df_pancreas_patient.to_numpy()\n",
    "pancreas_icd_sets = [set(icd_list) for patient, icd_list in pancreas_patient_array]"
   ]
  },
  {
   "cell_type": "code",
   "execution_count": null,
   "metadata": {},
   "outputs": [],
   "source": [
    "# use taxodist to calculate similarity of all patients\n",
    "dist_matrix = td.calc_set_sim(pancreas_icd_sets,tree,'levels','nguyen_almubaid','bipartite_matching',normalize=False)\n",
    "\n",
    "df_mds_coordinates = utils.getMDSMatrix(dist_matrix)"
   ]
  },
  {
   "cell_type": "code",
   "execution_count": 38,
   "metadata": {},
   "outputs": [
    {
     "data": {
      "application/vnd.plotly.v1+json": {
       "config": {
        "plotlyServerURL": "https://plot.ly"
       },
       "data": [
        {
         "customdata": [
          [
           "patient 0",
           "{'R11', 'K83.0', 'C78.7', 'R65.0', 'U69.12', 'K92.0', 'K92.1', 'C25.0', 'K26.0', 'K31.5', 'Z03.1', 'Z71', 'F10.1', 'E87.6', 'R10.1', 'Z92.6', 'R53', 'K83.1', 'K59.09', 'R10.4', 'A41.58', 'Z03.9', 'E43', 'K22.7', 'R50.9', 'R14', 'K56.6', 'K71.0', 'Z11', 'C25.9', 'U99.0', 'K92.2', 'Z86.7', 'R63.3', 'T85.75', 'Z92.2', 'D62', 'D65.9', 'K25.0', 'Z95.81', 'J96.00', 'K31.88'}"
          ],
          [
           "patient 1",
           "{'D37.70', 'T82.5', 'K83.0', 'Z90.4', 'B95.7', 'I82.81', 'Z03.8', 'C25.0', 'C25.3', 'B37.0', 'R17', 'R06.0', 'T82.7', 'R16.0', 'Z45.20', 'G62.9', 'R10.1', 'K83.1', 'K91.82', 'R10.4', 'K86.8', 'R93.3', 'A49.0', 'B95.48', 'Z11', 'C25.9', 'T85.75', 'K70.9', 'Z95.81'}"
          ],
          [
           "patient 2",
           "{'K65.0', 'C78.7', 'R59.0', 'K64.0', 'I07.1', 'R91', 'E88.0', 'K29.6', 'R18', 'J98.7', 'C25.0', 'E78.4', 'E78.0', 'I80.28', 'Z03.1', 'C01', 'Z51.1', 'C25.2', 'Z03.6', 'R10.1', 'E87.6', 'Z03.5', 'Z92.1', 'D73.5', 'R53', 'M47.99', 'I35.1', 'K83.1', 'D68.4', 'N17.92', 'H02.8', 'I10.00', 'I10.90', 'J43.2', 'R10.4', 'T81.0', 'E43', 'R45.1', 'K20', 'N28.1', 'C02.1', 'J32.0', 'E86', 'C25.1', 'K64.9', 'R07.3', 'I95.8', 'Z11', 'K62.5', 'U99.0', 'D37.6', 'K57.30', 'R00.0', 'Z86.7', 'I70.0', 'D68.35', 'Y57.9', 'Z29.21', 'Z92.2', 'D12.8', 'R63.3', 'R07.1', 'Z95.81', 'K31.88', 'R60.0'}"
          ],
          [
           "patient 3",
           "{'C78.0', 'R11', 'N39.0', 'Z90.4', 'R13.9', 'C79.2', 'C25.0', 'T82.7', 'E87.6', 'R50.88', 'Z92.1', 'R53', 'B96.2', 'I10.00', 'K86.8', 'E43', 'B95.2', 'K83.8', 'Z11', 'U99.0', 'B99', 'R63.3', 'E03.9', 'C78.6', 'K31.88'}"
          ],
          [
           "patient 4",
           "{'C78.0', 'G47.0', 'R11', 'R10.3', 'R17.0', 'K83.0', 'C78.7', 'Z90.4', 'C25.7', 'A49.9', 'U69.12', 'R91', 'F32.0', 'E87.2', 'K92.0', 'K44.9', 'K76.0', 'R45.8', 'J98.0', 'C25.0', 'K31.5', 'B37.0', 'R06.0', 'Z03.1', 'R16.0', 'J18.8', 'Z29.0', 'Z22.3', 'Z90.7', 'Z85.0', 'E87.6', 'U80.30', 'Z92.6', 'R93.2', 'J96.01', 'A09.9', 'R53', 'D38.1', 'K83.1', 'D68.4', 'K80.31', 'B37.88', 'K59.09', 'E66.00', 'R10.4', 'R16.1', 'K86.8', 'T81.0', 'E87.1', 'E43', 'M85.99', 'K21.0', 'E86', 'K56.6', 'R93.3', 'B95.2', 'K22.81', 'K81.0', 'D90', 'Z86.1', 'Z11', 'K31.1', 'Z96.88', 'C25.9', 'K22.1', 'U99.0', 'R63.3', 'D63.0', 'Z29.21', 'T85.53', 'K25.0', 'Z95.81', 'D61.10'}"
          ],
          [
           "patient 5",
           "{'C25.9'}"
          ],
          [
           "patient 6",
           "{'C78.7', 'I10.00', 'Z11', 'C25.9', 'E89.0', 'U99.0', 'C25.2', 'E11.90', 'Z95.81', 'C77.9'}"
          ],
          [
           "patient 7",
           "{'Z90.4', 'R59.0', 'K76.8', 'K29.6', 'K44.9', 'C25.0', 'R06.0', 'Z03.1', 'Z71', 'C77.2', 'R10.1', 'R50.88', 'I10.00', 'K86.8', 'K22.7', 'K90.3', 'K21.0', 'C25.1', 'R93.3', 'Z11', 'Z29.28', 'E89.0', 'U99.0', 'C25.9', 'Z88.0', 'I70.0', 'E03.9', 'Z95.81', 'K29.5'}"
          ],
          [
           "patient 8",
           "{'D37.70', 'R11', 'C78.7', 'R59.0', 'B95.7', 'U69.12', 'R58', 'R18', 'K29.6', 'R52.1', 'L59.8', 'K92.1', 'C25.0', 'R06.0', 'T82.7', 'G62.9', 'D69.61', 'E87.6', 'R10.1', 'R16.1', 'E43', 'D64.8', 'D69.58', 'I85.9', 'J90', 'Z11', 'Z51.4', 'U99.0', 'K92.2', 'D63.0', 'D62', 'K25.0', 'Z95.81', 'K91.88', 'K31.88'}"
          ],
          [
           "patient 9",
           "{'C78.0', 'T82.5', 'Z95.88', 'M25.51', 'Z90.4', 'I25.12', 'R59.0', 'C78.7', 'R63.4', 'C25.3', 'E78.0', 'Z03.1', 'T82.7', 'G62.9', 'Z95.5', 'R10.1', 'I25.22', 'K83.1', 'Y82.8', 'R16.1', 'I10.00', 'R30.9', 'E43', 'K90.3', 'I50.11', 'Z11', 'C25.9', 'U99.0', 'R63.3', 'Z92.2', 'Z95.81'}"
          ],
          [
           "patient 10",
           "{'K83.0', 'Z90.4', 'K64.0', 'U69.12', 'R43.2', 'R79.8', 'I25.11', 'R18', 'K92.1', 'E78.4', 'C25.0', 'K26.0', 'Z03.1', 'T82.7', 'C25.4', 'D69.88', 'E79.0', 'E87.6', 'K80.20', 'K74.0', 'R53', 'K83.1', 'Y82.8', 'E78.5', 'D68.4', 'B96.2', 'I10.00', 'R16.1', 'E05.8', 'K86.8', 'T81.0', 'E87.1', 'E43', 'I70.29', 'R93.3', 'B95.2', 'K76.9', 'Z11', 'R74.0', 'C25.9', 'K57.30', 'U99.0', 'R63.3', 'D62', 'Z92.2'}"
          ],
          [
           "patient 11",
           "{'G47.0', 'K86.1', 'Z90.4', 'K25.9', 'R63.4', 'R18', 'K92.1', 'K31.5', 'Z85.0', 'E87.6', 'Z92.1', 'K83.1', 'E13.90', 'I26.9', 'R16.1', 'E61.1', 'K86.8', 'E43', 'K21.0', 'K56.6', 'C25.1', 'Z11', 'J90', 'C25.9', 'U99.0', 'K57.30', 'K92.2', 'R63.3', 'D68.35', 'D63.0', 'D62', 'Y57.9', 'K31.82', 'K56.4', 'Z95.81', 'R60.0'}"
          ],
          [
           "patient 12",
           "{'I82.2', 'C78.7', 'E83.38', 'I48.0', 'C25.8', 'R79.8', 'A49.8', 'I48.2', 'C25.0', 'I25.13', 'D72.8', 'I80.28', 'Z95.5', 'Z92.1', 'E87.5', 'I10.00', 'C79.5', 'K86.8', 'T81.0', 'N17.91', 'R21', 'Z11', 'C25.9', 'U99.0', 'R63.3', 'Z86.7', 'Y57.9', 'Z92.2', 'D48.5', 'C78.6', 'C77.9'}"
          ],
          [
           "patient 13",
           "{'D37.70', 'J44.99', 'C78.0', 'I34.0', 'I31.3', 'A49.9', 'I07.1', 'Z90.2', 'R91', 'R18', 'C25.0', 'Z85.1', 'Z03.1', 'C25.2', 'Z03.6', 'C77.2', 'Z92.1', 'N17.92', 'I10.00', 'K59.09', 'R10.4', 'K86.8', 'E43', 'E86', 'C25.1', 'R93.3', 'K56.4', 'I95.8', 'D90', 'Z11', 'E03.9', 'C25.9', 'R63.3', 'L27.1', 'Z92.2', 'C34.9', 'E11.90', 'C78.6', 'J44.89'}"
          ],
          [
           "patient 14",
           "{'D37.70', 'B96.5', 'K83.0', 'C78.7', 'U69.0', 'E10.90', 'I95.9', 'A49.9', 'C25.8', 'U69.12', 'R91', 'E87.2', 'D53.0', 'J15.9', 'R52.1', 'R18', 'E88.0', 'K76.0', 'C25.0', 'C25.3', 'Z03.1', 'D68.8', 'C25.4', 'K80.00', 'J18.9', 'E87.6', 'N17.93', 'C77.2', 'K80.20', 'A41.52', 'K83.1', 'F05.0', 'D68.4', 'B96.2', 'I10.00', 'F17.1', 'R16.1', 'E66.00', 'K86.8', 'N17.91', 'E87.1', 'R65.1', 'S36.02', 'R52.2', 'T85.5', 'N13.3', 'K56.6', 'C25.1', 'I95.8', 'K71.0', 'I50.11', 'N13.1', 'T81.4', 'Z11', 'F05.8', 'C25.9', 'U99.0', 'D37.6', 'D73.3', 'D63.0', 'D62', 'R59.9', 'Z92.2', 'E11.90', 'C78.6', 'Z95.81', 'J96.00', 'K31.88', 'C77.9'}"
          ],
          [
           "patient 15",
           "{'C78.0', 'G47.0', 'J45.9', 'C78.7', 'C25.8', 'R60.0', 'A49.8', 'I83.1', 'K72.0', 'Z93.1', 'J45.8', 'C25.2', 'R10.1', 'Z92.6', 'G55.0', 'I87.1', 'R53', 'N17.92', 'R16.1', 'C79.0', 'C09.9', 'R10.4', 'C78.8', 'C79.5', 'K59.09', 'E43', 'M53.86', 'Z11', 'A46', 'C25.9', 'U99.0', 'R63.3', 'M90.78', 'Z51.5', 'R59.9', 'Z95.81', 'C77.9'}"
          ],
          [
           "patient 16",
           "{'R11', 'C25.0', 'E13.90', 'C78.7', 'Z11', 'C25.9', 'U99.0', 'G62.0', 'Z95.81', 'R73.9'}"
          ],
          [
           "patient 17",
           "{'G47.0', 'C78.7', 'U69.12', 'E88.0', 'R18', 'K92.0', 'R52.1', 'E88.29', 'G62.9', 'D69.61', 'C25.2', 'L03.3', 'C77.2', 'N17.93', 'R65.9', 'C77.8', 'D68.4', 'R16.1', 'I10.00', 'K59.09', 'R65.1', 'R60.1', 'D90', 'T81.4', 'Z11', 'A41.8', 'U99.0', 'Z51.4', 'E03.9', 'Z95.81', 'R60.0'}"
          ],
          [
           "patient 18",
           "{'R11', 'C78.0', 'N39.0', 'C91.10', 'E04.9', 'K83.0', 'Z90.4', 'C78.7', 'R13.9', 'A49.9', 'B95.7', 'I80.80', 'B02.9', 'K91.83', 'A49.8', 'R18', 'K29.6', 'C50.9', 'K76.0', 'C25.0', 'M46.42', 'Z03.1', 'R51', 'R16.0', 'R64', 'Z51.1', 'R10.1', 'R93.2', 'Z04.8', 'I65.2', 'K59.0', 'R50.88', 'R53', 'K83.1', 'I10.00', 'Z85.3', 'K86.8', 'M54.12', 'E43', 'R50.9', 'R14', 'T85.5', 'T85.78', 'K21.0', 'G51.8', 'C79.83', 'B95.2', 'E05.9', 'C85.1', 'R50.80', 'K83.8', 'K52.9', 'C78.2', 'Z11', 'U99.0', 'R63.3', 'Z92.2', 'R59.9', 'E11.90', 'J91', 'R60.0'}"
          ],
          [
           "patient 19",
           "{'N39.0', 'K35.8', 'K56.5', 'Z88.6', 'B95.7', 'C25.8', 'C48.1', 'R18', 'C25.0', 'Z71', 'R64', 'R10.1', 'A09.9', 'C57.8', 'C40.3', 'R10.4', 'K86.8', 'Z43.3', 'E43', 'K56.6', 'C25.1', 'E44.0', 'N13.1', 'Z11', 'C25.9', 'D39.1', 'U99.0', 'R63.3', 'C78.6', 'Z95.81'}"
          ],
          [
           "patient 20",
           "{'R11', 'G47.0', 'K83.0', 'C78.7', 'Z90.4', 'Z95.81', 'B95.7', 'U69.12', 'R33', 'A49.8', 'L89.14', 'J95.80', 'R18', 'K92.1', 'B37.0', 'F45.41', 'Z29.0', 'Z22.3', 'C25.2', 'N17.93', 'E87.6', 'Z92.6', 'K25.0', 'A09.9', 'R53', 'D68.4', 'B37.88', 'I10.00', 'K59.09', 'R10.4', 'I89.01', 'K86.8', 'B95.90', 'E43', 'R45.1', 'N13.3', 'R14', 'T83.1', 'E86', 'G62.0', 'K59.02', 'D70.19', 'N13.1', 'D90', 'B95.48', 'Z11', 'U99.0', 'C25.9', 'R63.3', 'K92.2', 'D62', 'Y57.9', 'E11.90', 'J91', 'R31', 'R60.0'}"
          ],
          [
           "patient 21",
           "{'D37.70', 'G47.0', 'R11', 'K83.0', 'Z90.4', 'Z03.4', 'L29.8', 'C78.7', 'U69.12', 'C25.0', 'Z03.1', 'Z71', 'Z45.20', 'E87.6', 'K83.1', 'D68.4', 'U80.31', 'B96.2', 'M54.88', 'I10.00', 'K86.8', 'K90.3', 'E44.0', 'R07.3', 'D70.19', 'Z11', 'U99.0', 'D37.6', 'I10.01', 'Z95.81', 'J96.00', 'R55'}"
          ],
          [
           "patient 22",
           "{'R11', 'Z53', 'G47.0', 'N39.0', 'K83.0', 'C78.7', 'Z90.4', 'R13.9', 'C25.7', 'A49.9', 'Z95.81', 'B95.7', 'M79.89', 'A49.8', 'R60.0', 'K29.6', 'K44.9', 'C25.0', 'K59.9', 'U81.20', 'Z03.1', 'T82.7', 'F45.41', 'G62.9', 'R16.0', 'Z29.0', 'Z51.1', 'Z22.3', 'A04.70', 'B96.7', 'E87.6', 'N17.93', 'R10.1', 'C77.2', 'Z92.6', 'R50.88', 'Z03.5', 'Z92.1', 'R53', 'E78.5', 'N17.92', 'B96.2', 'R16.1', 'K59.09', 'Z92.3', 'K86.8', 'E87.1', 'B95.90', 'E43', 'R50.9', 'R45.1', 'K85.90', 'E86', 'N12', 'B95.2', 'D70.19', 'I95.8', 'N40', 'D90', 'Z11', 'K31.7', 'B96.6', 'C25.9', 'D37.6', 'B99', 'R63.3', 'U99.0', 'Y57.9', 'R59.9', 'J15.8', 'Z29.21', 'N00.9', 'D13.1', 'C77.9'}"
          ],
          [
           "patient 23",
           "{'I25.22', 'C78.0', 'C25.0', 'I25.13', 'C78.7', 'I10.00', 'Z11', 'C25.9', 'U99.0', 'N18.3', 'Z92.2', 'Z95.5', 'I49.3', 'E79.0', 'E11.90', 'G47.31', 'C77.9'}"
          ],
          [
           "patient 24",
           "{'C25.0', 'C78.7', 'I10.00', 'Z03.1', 'M06.89', 'R93.2'}"
          ],
          [
           "patient 25",
           "{'D37.70', 'Z03.8', 'C25.0', 'Z11', 'Z03.1', 'K86.8', 'E03.9', 'C25.1', 'R93.3'}"
          ],
          [
           "patient 26",
           "{'C25.9'}"
          ],
          [
           "patient 27",
           "{'C25.0', 'C78.7', 'K59.09', 'Z11', 'E10.90', 'K86.8', 'U99.0'}"
          ],
          [
           "patient 28",
           "{'D37.70', 'N39.0', 'K83.0', 'I80.1', 'A49.9', 'U69.12', 'I81', 'I80.81', 'E88.0', 'B37.81', 'E78.0', 'I80.28', 'G62.9', 'Z22.3', 'K65.9', 'Z92.1', 'I26.9', 'B96.2', 'R16.1', 'E43', 'K90.3', 'K31.82', 'Z86.7', 'D65.9', 'I86.4', 'G47.0', 'R11', 'J98.8', 'A49.8', 'R18', 'C25.0', 'E78.4', 'B37.0', 'Z29.0', 'E79.0', 'U80.30', 'R10.1', 'D68.4', 'B37.88', 'K86.8', 'T81.0', 'Y69', 'D70.19', 'D90', 'D62', 'K65.09', 'T85.53', 'J96.09', 'I10.01', 'Z95.81', 'A49.1', 'C78.7', 'R63.4', 'K29.6', 'R16.0', 'K82.1', 'D69.61', 'E87.6', 'R53', 'K83.1', 'E78.5', 'R10.4', 'C78.8', 'E87.1', 'N20.1', 'B96.3', 'N40', 'R09.3', 'Z11', 'U99.0', 'K92.2', 'E11.90', 'K64.0', 'B95.7', 'K76.0', 'K65.00', 'T85.88', 'K80.20', 'E11.91', 'I10.00', 'Z96.4', 'B95.2', 'I95.8', 'B96.6', 'Z96.88', 'C25.9', 'K80.51', 'Z51.4', 'R63.3', 'D68.35', 'J15.8', 'K80.31', 'J96.00', 'R60.0'}"
          ]
         ],
         "hovertemplate": "Patient=%{customdata[0]}<br>ICD diagnoses=%{customdata[1]}<extra></extra>",
         "legendgroup": "",
         "marker": {
          "color": "#636efa",
          "symbol": "circle"
         },
         "mode": "markers",
         "name": "",
         "orientation": "v",
         "showlegend": false,
         "type": "scatter",
         "x": [
          51.76803442615192,
          89.88042340022484,
          -99.3364417466967,
          41.273401678683925,
          -61.684879601628865,
          -89.51968685359549,
          -60.5485972524063,
          54.94143881343592,
          97.0957201239597,
          42.30048918147515,
          37.47919277010374,
          68.72763636095776,
          24.428735978815297,
          13.131443227014802,
          -24.170063370339268,
          85.04033271582912,
          -47.16679147627561,
          103.2039792348633,
          8.666382683136334,
          66.517195314151,
          -34.152896236843034,
          87.41850820842205,
          -121.78637220497653,
          -5.97024109427697,
          -55.53304398150239,
          -31.97831304781192,
          -104.87658286478015,
          -63.6188223542145,
          -71.53018203187713
         ],
         "xaxis": "x",
         "y": [
          94.45916678170082,
          -12.290200351538529,
          204.39234663115434,
          -71.96211103131043,
          229.27536615992688,
          -309.3698183855987,
          -225.09947288017256,
          -13.573049381099693,
          59.479968097036185,
          9.58161391085956,
          119.73845457760365,
          58.515841151888324,
          21.882616873462695,
          79.89545880040312,
          255.80603749128187,
          87.37481346565927,
          -225.90837869447364,
          15.954583287005436,
          229.2842595354335,
          8.97440472420631,
          155.87663805065705,
          28.69624384869062,
          193.3568428159936,
          -136.07065135344246,
          -260.0540472934229,
          -234.4135847624929,
          -308.79663457809096,
          -255.01211950697802,
          200.0054120156576
         ],
         "yaxis": "y"
        }
       ],
       "layout": {
        "legend": {
         "tracegroupgap": 0
        },
        "margin": {
         "t": 60
        },
        "template": {
         "data": {
          "bar": [
           {
            "error_x": {
             "color": "#2a3f5f"
            },
            "error_y": {
             "color": "#2a3f5f"
            },
            "marker": {
             "line": {
              "color": "#E5ECF6",
              "width": 0.5
             },
             "pattern": {
              "fillmode": "overlay",
              "size": 10,
              "solidity": 0.2
             }
            },
            "type": "bar"
           }
          ],
          "barpolar": [
           {
            "marker": {
             "line": {
              "color": "#E5ECF6",
              "width": 0.5
             },
             "pattern": {
              "fillmode": "overlay",
              "size": 10,
              "solidity": 0.2
             }
            },
            "type": "barpolar"
           }
          ],
          "carpet": [
           {
            "aaxis": {
             "endlinecolor": "#2a3f5f",
             "gridcolor": "white",
             "linecolor": "white",
             "minorgridcolor": "white",
             "startlinecolor": "#2a3f5f"
            },
            "baxis": {
             "endlinecolor": "#2a3f5f",
             "gridcolor": "white",
             "linecolor": "white",
             "minorgridcolor": "white",
             "startlinecolor": "#2a3f5f"
            },
            "type": "carpet"
           }
          ],
          "choropleth": [
           {
            "colorbar": {
             "outlinewidth": 0,
             "ticks": ""
            },
            "type": "choropleth"
           }
          ],
          "contour": [
           {
            "colorbar": {
             "outlinewidth": 0,
             "ticks": ""
            },
            "colorscale": [
             [
              0,
              "#0d0887"
             ],
             [
              0.1111111111111111,
              "#46039f"
             ],
             [
              0.2222222222222222,
              "#7201a8"
             ],
             [
              0.3333333333333333,
              "#9c179e"
             ],
             [
              0.4444444444444444,
              "#bd3786"
             ],
             [
              0.5555555555555556,
              "#d8576b"
             ],
             [
              0.6666666666666666,
              "#ed7953"
             ],
             [
              0.7777777777777778,
              "#fb9f3a"
             ],
             [
              0.8888888888888888,
              "#fdca26"
             ],
             [
              1,
              "#f0f921"
             ]
            ],
            "type": "contour"
           }
          ],
          "contourcarpet": [
           {
            "colorbar": {
             "outlinewidth": 0,
             "ticks": ""
            },
            "type": "contourcarpet"
           }
          ],
          "heatmap": [
           {
            "colorbar": {
             "outlinewidth": 0,
             "ticks": ""
            },
            "colorscale": [
             [
              0,
              "#0d0887"
             ],
             [
              0.1111111111111111,
              "#46039f"
             ],
             [
              0.2222222222222222,
              "#7201a8"
             ],
             [
              0.3333333333333333,
              "#9c179e"
             ],
             [
              0.4444444444444444,
              "#bd3786"
             ],
             [
              0.5555555555555556,
              "#d8576b"
             ],
             [
              0.6666666666666666,
              "#ed7953"
             ],
             [
              0.7777777777777778,
              "#fb9f3a"
             ],
             [
              0.8888888888888888,
              "#fdca26"
             ],
             [
              1,
              "#f0f921"
             ]
            ],
            "type": "heatmap"
           }
          ],
          "heatmapgl": [
           {
            "colorbar": {
             "outlinewidth": 0,
             "ticks": ""
            },
            "colorscale": [
             [
              0,
              "#0d0887"
             ],
             [
              0.1111111111111111,
              "#46039f"
             ],
             [
              0.2222222222222222,
              "#7201a8"
             ],
             [
              0.3333333333333333,
              "#9c179e"
             ],
             [
              0.4444444444444444,
              "#bd3786"
             ],
             [
              0.5555555555555556,
              "#d8576b"
             ],
             [
              0.6666666666666666,
              "#ed7953"
             ],
             [
              0.7777777777777778,
              "#fb9f3a"
             ],
             [
              0.8888888888888888,
              "#fdca26"
             ],
             [
              1,
              "#f0f921"
             ]
            ],
            "type": "heatmapgl"
           }
          ],
          "histogram": [
           {
            "marker": {
             "pattern": {
              "fillmode": "overlay",
              "size": 10,
              "solidity": 0.2
             }
            },
            "type": "histogram"
           }
          ],
          "histogram2d": [
           {
            "colorbar": {
             "outlinewidth": 0,
             "ticks": ""
            },
            "colorscale": [
             [
              0,
              "#0d0887"
             ],
             [
              0.1111111111111111,
              "#46039f"
             ],
             [
              0.2222222222222222,
              "#7201a8"
             ],
             [
              0.3333333333333333,
              "#9c179e"
             ],
             [
              0.4444444444444444,
              "#bd3786"
             ],
             [
              0.5555555555555556,
              "#d8576b"
             ],
             [
              0.6666666666666666,
              "#ed7953"
             ],
             [
              0.7777777777777778,
              "#fb9f3a"
             ],
             [
              0.8888888888888888,
              "#fdca26"
             ],
             [
              1,
              "#f0f921"
             ]
            ],
            "type": "histogram2d"
           }
          ],
          "histogram2dcontour": [
           {
            "colorbar": {
             "outlinewidth": 0,
             "ticks": ""
            },
            "colorscale": [
             [
              0,
              "#0d0887"
             ],
             [
              0.1111111111111111,
              "#46039f"
             ],
             [
              0.2222222222222222,
              "#7201a8"
             ],
             [
              0.3333333333333333,
              "#9c179e"
             ],
             [
              0.4444444444444444,
              "#bd3786"
             ],
             [
              0.5555555555555556,
              "#d8576b"
             ],
             [
              0.6666666666666666,
              "#ed7953"
             ],
             [
              0.7777777777777778,
              "#fb9f3a"
             ],
             [
              0.8888888888888888,
              "#fdca26"
             ],
             [
              1,
              "#f0f921"
             ]
            ],
            "type": "histogram2dcontour"
           }
          ],
          "mesh3d": [
           {
            "colorbar": {
             "outlinewidth": 0,
             "ticks": ""
            },
            "type": "mesh3d"
           }
          ],
          "parcoords": [
           {
            "line": {
             "colorbar": {
              "outlinewidth": 0,
              "ticks": ""
             }
            },
            "type": "parcoords"
           }
          ],
          "pie": [
           {
            "automargin": true,
            "type": "pie"
           }
          ],
          "scatter": [
           {
            "fillpattern": {
             "fillmode": "overlay",
             "size": 10,
             "solidity": 0.2
            },
            "type": "scatter"
           }
          ],
          "scatter3d": [
           {
            "line": {
             "colorbar": {
              "outlinewidth": 0,
              "ticks": ""
             }
            },
            "marker": {
             "colorbar": {
              "outlinewidth": 0,
              "ticks": ""
             }
            },
            "type": "scatter3d"
           }
          ],
          "scattercarpet": [
           {
            "marker": {
             "colorbar": {
              "outlinewidth": 0,
              "ticks": ""
             }
            },
            "type": "scattercarpet"
           }
          ],
          "scattergeo": [
           {
            "marker": {
             "colorbar": {
              "outlinewidth": 0,
              "ticks": ""
             }
            },
            "type": "scattergeo"
           }
          ],
          "scattergl": [
           {
            "marker": {
             "colorbar": {
              "outlinewidth": 0,
              "ticks": ""
             }
            },
            "type": "scattergl"
           }
          ],
          "scattermapbox": [
           {
            "marker": {
             "colorbar": {
              "outlinewidth": 0,
              "ticks": ""
             }
            },
            "type": "scattermapbox"
           }
          ],
          "scatterpolar": [
           {
            "marker": {
             "colorbar": {
              "outlinewidth": 0,
              "ticks": ""
             }
            },
            "type": "scatterpolar"
           }
          ],
          "scatterpolargl": [
           {
            "marker": {
             "colorbar": {
              "outlinewidth": 0,
              "ticks": ""
             }
            },
            "type": "scatterpolargl"
           }
          ],
          "scatterternary": [
           {
            "marker": {
             "colorbar": {
              "outlinewidth": 0,
              "ticks": ""
             }
            },
            "type": "scatterternary"
           }
          ],
          "surface": [
           {
            "colorbar": {
             "outlinewidth": 0,
             "ticks": ""
            },
            "colorscale": [
             [
              0,
              "#0d0887"
             ],
             [
              0.1111111111111111,
              "#46039f"
             ],
             [
              0.2222222222222222,
              "#7201a8"
             ],
             [
              0.3333333333333333,
              "#9c179e"
             ],
             [
              0.4444444444444444,
              "#bd3786"
             ],
             [
              0.5555555555555556,
              "#d8576b"
             ],
             [
              0.6666666666666666,
              "#ed7953"
             ],
             [
              0.7777777777777778,
              "#fb9f3a"
             ],
             [
              0.8888888888888888,
              "#fdca26"
             ],
             [
              1,
              "#f0f921"
             ]
            ],
            "type": "surface"
           }
          ],
          "table": [
           {
            "cells": {
             "fill": {
              "color": "#EBF0F8"
             },
             "line": {
              "color": "white"
             }
            },
            "header": {
             "fill": {
              "color": "#C8D4E3"
             },
             "line": {
              "color": "white"
             }
            },
            "type": "table"
           }
          ]
         },
         "layout": {
          "annotationdefaults": {
           "arrowcolor": "#2a3f5f",
           "arrowhead": 0,
           "arrowwidth": 1
          },
          "autotypenumbers": "strict",
          "coloraxis": {
           "colorbar": {
            "outlinewidth": 0,
            "ticks": ""
           }
          },
          "colorscale": {
           "diverging": [
            [
             0,
             "#8e0152"
            ],
            [
             0.1,
             "#c51b7d"
            ],
            [
             0.2,
             "#de77ae"
            ],
            [
             0.3,
             "#f1b6da"
            ],
            [
             0.4,
             "#fde0ef"
            ],
            [
             0.5,
             "#f7f7f7"
            ],
            [
             0.6,
             "#e6f5d0"
            ],
            [
             0.7,
             "#b8e186"
            ],
            [
             0.8,
             "#7fbc41"
            ],
            [
             0.9,
             "#4d9221"
            ],
            [
             1,
             "#276419"
            ]
           ],
           "sequential": [
            [
             0,
             "#0d0887"
            ],
            [
             0.1111111111111111,
             "#46039f"
            ],
            [
             0.2222222222222222,
             "#7201a8"
            ],
            [
             0.3333333333333333,
             "#9c179e"
            ],
            [
             0.4444444444444444,
             "#bd3786"
            ],
            [
             0.5555555555555556,
             "#d8576b"
            ],
            [
             0.6666666666666666,
             "#ed7953"
            ],
            [
             0.7777777777777778,
             "#fb9f3a"
            ],
            [
             0.8888888888888888,
             "#fdca26"
            ],
            [
             1,
             "#f0f921"
            ]
           ],
           "sequentialminus": [
            [
             0,
             "#0d0887"
            ],
            [
             0.1111111111111111,
             "#46039f"
            ],
            [
             0.2222222222222222,
             "#7201a8"
            ],
            [
             0.3333333333333333,
             "#9c179e"
            ],
            [
             0.4444444444444444,
             "#bd3786"
            ],
            [
             0.5555555555555556,
             "#d8576b"
            ],
            [
             0.6666666666666666,
             "#ed7953"
            ],
            [
             0.7777777777777778,
             "#fb9f3a"
            ],
            [
             0.8888888888888888,
             "#fdca26"
            ],
            [
             1,
             "#f0f921"
            ]
           ]
          },
          "colorway": [
           "#636efa",
           "#EF553B",
           "#00cc96",
           "#ab63fa",
           "#FFA15A",
           "#19d3f3",
           "#FF6692",
           "#B6E880",
           "#FF97FF",
           "#FECB52"
          ],
          "font": {
           "color": "#2a3f5f"
          },
          "geo": {
           "bgcolor": "white",
           "lakecolor": "white",
           "landcolor": "#E5ECF6",
           "showlakes": true,
           "showland": true,
           "subunitcolor": "white"
          },
          "hoverlabel": {
           "align": "left"
          },
          "hovermode": "closest",
          "mapbox": {
           "style": "light"
          },
          "paper_bgcolor": "white",
          "plot_bgcolor": "#E5ECF6",
          "polar": {
           "angularaxis": {
            "gridcolor": "white",
            "linecolor": "white",
            "ticks": ""
           },
           "bgcolor": "#E5ECF6",
           "radialaxis": {
            "gridcolor": "white",
            "linecolor": "white",
            "ticks": ""
           }
          },
          "scene": {
           "xaxis": {
            "backgroundcolor": "#E5ECF6",
            "gridcolor": "white",
            "gridwidth": 2,
            "linecolor": "white",
            "showbackground": true,
            "ticks": "",
            "zerolinecolor": "white"
           },
           "yaxis": {
            "backgroundcolor": "#E5ECF6",
            "gridcolor": "white",
            "gridwidth": 2,
            "linecolor": "white",
            "showbackground": true,
            "ticks": "",
            "zerolinecolor": "white"
           },
           "zaxis": {
            "backgroundcolor": "#E5ECF6",
            "gridcolor": "white",
            "gridwidth": 2,
            "linecolor": "white",
            "showbackground": true,
            "ticks": "",
            "zerolinecolor": "white"
           }
          },
          "shapedefaults": {
           "line": {
            "color": "#2a3f5f"
           }
          },
          "ternary": {
           "aaxis": {
            "gridcolor": "white",
            "linecolor": "white",
            "ticks": ""
           },
           "baxis": {
            "gridcolor": "white",
            "linecolor": "white",
            "ticks": ""
           },
           "bgcolor": "#E5ECF6",
           "caxis": {
            "gridcolor": "white",
            "linecolor": "white",
            "ticks": ""
           }
          },
          "title": {
           "x": 0.05
          },
          "xaxis": {
           "automargin": true,
           "gridcolor": "white",
           "linecolor": "white",
           "ticks": "",
           "title": {
            "standoff": 15
           },
           "zerolinecolor": "white",
           "zerolinewidth": 2
          },
          "yaxis": {
           "automargin": true,
           "gridcolor": "white",
           "linecolor": "white",
           "ticks": "",
           "title": {
            "standoff": 15
           },
           "zerolinecolor": "white",
           "zerolinewidth": 2
          }
         }
        },
        "xaxis": {
         "anchor": "y",
         "domain": [
          0,
          1
         ],
         "title": {
          "text": "X"
         }
        },
        "yaxis": {
         "anchor": "x",
         "domain": [
          0,
          1
         ],
         "title": {
          "text": "Y"
         }
        }
       }
      }
     },
     "metadata": {},
     "output_type": "display_data"
    }
   ],
   "source": [
    "#dist_matrix = pd.read_excel('analysis/generated/matrices/pancreas_pats_dist_L_NA_BIP.xlsx')\n",
    "dist_matrix = dist_matrix.to_numpy()\n",
    "setnames = ['patient ' + str(count) for count in range(0,len(dist_matrix))]\n",
    "df_mds_coordinates.set_axis(setnames,axis='index',inplace=True)\n",
    "df_mds_coordinates['Patient'] = setnames\n",
    "\n",
    "df_mds_coordinates['ICD diagnoses'] = patient_diagnoses\n",
    "df_mds_coordinates.rename(columns={0:'X',1:'Y'}, inplace=True)\n",
    "# utils.plotDistMatrix(df_mds_coordinates,setnames)\n",
    "\n",
    "fig = px.scatter(df_mds_coordinates,x='X',y='Y',hover_data={'Patient':True,'ICD diagnoses':True,'X':False,'Y':False})\n",
    "fig.show()"
   ]
  },
  {
   "cell_type": "code",
   "execution_count": 39,
   "metadata": {},
   "outputs": [
    {
     "data": {
      "text/html": [
       "<div>\n",
       "<style scoped>\n",
       "    .dataframe tbody tr th:only-of-type {\n",
       "        vertical-align: middle;\n",
       "    }\n",
       "\n",
       "    .dataframe tbody tr th {\n",
       "        vertical-align: top;\n",
       "    }\n",
       "\n",
       "    .dataframe thead th {\n",
       "        text-align: right;\n",
       "    }\n",
       "</style>\n",
       "<table border=\"1\" class=\"dataframe\">\n",
       "  <thead>\n",
       "    <tr style=\"text-align: right;\">\n",
       "      <th></th>\n",
       "      <th>ICD-10 Hauptdiagnose</th>\n",
       "      <th>Pseudonym</th>\n",
       "    </tr>\n",
       "  </thead>\n",
       "  <tbody>\n",
       "    <tr>\n",
       "      <th>1</th>\n",
       "      <td>C25.1</td>\n",
       "      <td>c856aac7ae6ea8502e45368749f9d82c</td>\n",
       "    </tr>\n",
       "    <tr>\n",
       "      <th>8</th>\n",
       "      <td>C25.0</td>\n",
       "      <td>8c492854a1494a616ee0a1f38f3ac971</td>\n",
       "    </tr>\n",
       "    <tr>\n",
       "      <th>10</th>\n",
       "      <td>C25.9</td>\n",
       "      <td>24a2aab4b0f45dfc0daa987b267927a8</td>\n",
       "    </tr>\n",
       "    <tr>\n",
       "      <th>13</th>\n",
       "      <td>C25.0</td>\n",
       "      <td>01a7076d03600a3d69cc43e181bc4bc0</td>\n",
       "    </tr>\n",
       "    <tr>\n",
       "      <th>16</th>\n",
       "      <td>C25.0</td>\n",
       "      <td>241852e144299cb99c6a56457b77a4e9</td>\n",
       "    </tr>\n",
       "    <tr>\n",
       "      <th>18</th>\n",
       "      <td>C25.2</td>\n",
       "      <td>2192148f8783d0a2b02e48260528f27d</td>\n",
       "    </tr>\n",
       "    <tr>\n",
       "      <th>19</th>\n",
       "      <td>C25.2</td>\n",
       "      <td>2192148f8783d0a2b02e48260528f27d</td>\n",
       "    </tr>\n",
       "    <tr>\n",
       "      <th>21</th>\n",
       "      <td>C25.0</td>\n",
       "      <td>1df425d9aad0848a8cea3aed68cfeebe</td>\n",
       "    </tr>\n",
       "    <tr>\n",
       "      <th>25</th>\n",
       "      <td>C25.0</td>\n",
       "      <td>b74fd3befe21940e6c1e838a5b525091</td>\n",
       "    </tr>\n",
       "    <tr>\n",
       "      <th>26</th>\n",
       "      <td>C25.2</td>\n",
       "      <td>348ffd6b9debc52ee43742f6c0d625b4</td>\n",
       "    </tr>\n",
       "    <tr>\n",
       "      <th>30</th>\n",
       "      <td>C25.8</td>\n",
       "      <td>7222a36ece9e3f065a439283b933133f</td>\n",
       "    </tr>\n",
       "    <tr>\n",
       "      <th>31</th>\n",
       "      <td>C25.0</td>\n",
       "      <td>5bfb543447c6242ab8cab3f0ad6c5b4a</td>\n",
       "    </tr>\n",
       "    <tr>\n",
       "      <th>34</th>\n",
       "      <td>C25.0</td>\n",
       "      <td>468a098838897f8b5e6de4317690513f</td>\n",
       "    </tr>\n",
       "    <tr>\n",
       "      <th>38</th>\n",
       "      <td>C25.8</td>\n",
       "      <td>74a5dd5e0132afd0f4617090b19c382a</td>\n",
       "    </tr>\n",
       "    <tr>\n",
       "      <th>43</th>\n",
       "      <td>C25.2</td>\n",
       "      <td>8204f8e6dd647ba29f80d20212e75f18</td>\n",
       "    </tr>\n",
       "    <tr>\n",
       "      <th>45</th>\n",
       "      <td>C25.9</td>\n",
       "      <td>8da084a3b0ef5f657e6228e7758de57d</td>\n",
       "    </tr>\n",
       "    <tr>\n",
       "      <th>50</th>\n",
       "      <td>C25.1</td>\n",
       "      <td>5d9c092d8824ac5d47be3e521b2ecb2a</td>\n",
       "    </tr>\n",
       "    <tr>\n",
       "      <th>51</th>\n",
       "      <td>C25.0</td>\n",
       "      <td>a08bef127df8c9ef29bb8827afd75353</td>\n",
       "    </tr>\n",
       "    <tr>\n",
       "      <th>52</th>\n",
       "      <td>C25.1</td>\n",
       "      <td>3e09b669c47d2b542077eba042af1f98</td>\n",
       "    </tr>\n",
       "    <tr>\n",
       "      <th>53</th>\n",
       "      <td>C25.0</td>\n",
       "      <td>ea59d05e870316cca314cc9a4becbe29</td>\n",
       "    </tr>\n",
       "    <tr>\n",
       "      <th>54</th>\n",
       "      <td>C25.0</td>\n",
       "      <td>7b3ccd0077fc8937f9719bef3f365979</td>\n",
       "    </tr>\n",
       "    <tr>\n",
       "      <th>55</th>\n",
       "      <td>C25.0</td>\n",
       "      <td>c47dee4d4783ef347a54ec561253869e</td>\n",
       "    </tr>\n",
       "    <tr>\n",
       "      <th>57</th>\n",
       "      <td>C25.0</td>\n",
       "      <td>598665758dd39a4669e8c742eb353635</td>\n",
       "    </tr>\n",
       "    <tr>\n",
       "      <th>58</th>\n",
       "      <td>C25.9</td>\n",
       "      <td>751559c95d903c2dcab433bee2f3ea4f</td>\n",
       "    </tr>\n",
       "    <tr>\n",
       "      <th>65</th>\n",
       "      <td>C25.9</td>\n",
       "      <td>5fe406318ffe5d27b4e041d4f81a588a</td>\n",
       "    </tr>\n",
       "    <tr>\n",
       "      <th>66</th>\n",
       "      <td>C25.2</td>\n",
       "      <td>26af8207b03ea819b71d0adc2f84fa4c</td>\n",
       "    </tr>\n",
       "    <tr>\n",
       "      <th>70</th>\n",
       "      <td>C25.2</td>\n",
       "      <td>8f303cc7a255d411727b7d11d311ce5e</td>\n",
       "    </tr>\n",
       "    <tr>\n",
       "      <th>71</th>\n",
       "      <td>C25.2</td>\n",
       "      <td>8f303cc7a255d411727b7d11d311ce5e</td>\n",
       "    </tr>\n",
       "    <tr>\n",
       "      <th>84</th>\n",
       "      <td>C25.0</td>\n",
       "      <td>bc904d5325048ab0d09e2f4a54f806ca</td>\n",
       "    </tr>\n",
       "    <tr>\n",
       "      <th>85</th>\n",
       "      <td>C25.0</td>\n",
       "      <td>d5e65c76b233877851f2f6e6b763f170</td>\n",
       "    </tr>\n",
       "    <tr>\n",
       "      <th>86</th>\n",
       "      <td>C25.0</td>\n",
       "      <td>e404329f3acd43b8d0749e4f341ea69e</td>\n",
       "    </tr>\n",
       "  </tbody>\n",
       "</table>\n",
       "</div>"
      ],
      "text/plain": [
       "   ICD-10 Hauptdiagnose                         Pseudonym\n",
       "1                 C25.1  c856aac7ae6ea8502e45368749f9d82c\n",
       "8                 C25.0  8c492854a1494a616ee0a1f38f3ac971\n",
       "10                C25.9  24a2aab4b0f45dfc0daa987b267927a8\n",
       "13                C25.0  01a7076d03600a3d69cc43e181bc4bc0\n",
       "16                C25.0  241852e144299cb99c6a56457b77a4e9\n",
       "18                C25.2  2192148f8783d0a2b02e48260528f27d\n",
       "19                C25.2  2192148f8783d0a2b02e48260528f27d\n",
       "21                C25.0  1df425d9aad0848a8cea3aed68cfeebe\n",
       "25                C25.0  b74fd3befe21940e6c1e838a5b525091\n",
       "26                C25.2  348ffd6b9debc52ee43742f6c0d625b4\n",
       "30                C25.8  7222a36ece9e3f065a439283b933133f\n",
       "31                C25.0  5bfb543447c6242ab8cab3f0ad6c5b4a\n",
       "34                C25.0  468a098838897f8b5e6de4317690513f\n",
       "38                C25.8  74a5dd5e0132afd0f4617090b19c382a\n",
       "43                C25.2  8204f8e6dd647ba29f80d20212e75f18\n",
       "45                C25.9  8da084a3b0ef5f657e6228e7758de57d\n",
       "50                C25.1  5d9c092d8824ac5d47be3e521b2ecb2a\n",
       "51                C25.0  a08bef127df8c9ef29bb8827afd75353\n",
       "52                C25.1  3e09b669c47d2b542077eba042af1f98\n",
       "53                C25.0  ea59d05e870316cca314cc9a4becbe29\n",
       "54                C25.0  7b3ccd0077fc8937f9719bef3f365979\n",
       "55                C25.0  c47dee4d4783ef347a54ec561253869e\n",
       "57                C25.0  598665758dd39a4669e8c742eb353635\n",
       "58                C25.9  751559c95d903c2dcab433bee2f3ea4f\n",
       "65                C25.9  5fe406318ffe5d27b4e041d4f81a588a\n",
       "66                C25.2  26af8207b03ea819b71d0adc2f84fa4c\n",
       "70                C25.2  8f303cc7a255d411727b7d11d311ce5e\n",
       "71                C25.2  8f303cc7a255d411727b7d11d311ce5e\n",
       "84                C25.0  bc904d5325048ab0d09e2f4a54f806ca\n",
       "85                C25.0  d5e65c76b233877851f2f6e6b763f170\n",
       "86                C25.0  e404329f3acd43b8d0749e4f341ea69e"
      ]
     },
     "execution_count": 39,
     "metadata": {},
     "output_type": "execute_result"
    }
   ],
   "source": [
    "df_pancreas_hd"
   ]
  },
  {
   "cell_type": "code",
   "execution_count": null,
   "metadata": {},
   "outputs": [],
   "source": [
    "tree = tree_parsers.getICD10GMTree()\n",
    "depth = tree.depth()\n",
    "td = td_calc.Taxodist()\n",
    "\n",
    "set1 = {'C00.0','C02.0','C04.0','C05.0','C06.0'}\n",
    "set2 = {'D00.0','C02.0','C04.0','C05.0','C06.0'}\n",
    "set3 = {'D00.0','D02.0','C04.0','C05.0','C06.0'}\n",
    "set4 = {'D00.0','D02.0','D04.0','C05.0','C06.0'}\n",
    "set5 = {'D00.0','D02.0','D04.0','D05.0','C06.0'}\n",
    "\n",
    "# sets = [utils.getRandomConcepts(10,tree) for x in range(0,10)]\n",
    "sets = [set1,set2,set3,set4,set5]\n",
    "column_names=['Hauptdiagnose','ND1','ND2','ND3','ND4',]\n",
    "\n",
    "setnames = ['patient ' + str(x) for x in range(1,6)]"
   ]
  },
  {
   "cell_type": "code",
   "execution_count": null,
   "metadata": {},
   "outputs": [],
   "source": [
    "dist_matrix = td.calc_set_sim(sets,tree,'levels','nguyen_almubaid','bipartite_matching')\n",
    "sim_matrix = 1.0 - dist_matrix.round(3)\n",
    "df_mds_coordinates = utils.getMDSMatrix(dist_matrix)\n",
    "\n",
    "# fig = px.sunburst(\n",
    "# sets,\n",
    "# names='character',\n",
    "# parents='parent',\n",
    "# values='value',\n",
    "# )\n",
    "# fig.show()\n",
    "\n",
    "\n",
    "utils.plotDistMatrix(df_mds_coordinates,setnames)\n",
    "dist_matrix"
   ]
  },
  {
   "cell_type": "code",
   "execution_count": null,
   "metadata": {},
   "outputs": [],
   "source": [
    "dist_matrix = td.calc_set_sim(sets,tree,'levels','nguyen_almubaid','bipartite_matching',normalize=False)\n",
    "sim_matrix = 1.0 - dist_matrix.round(3)\n",
    "df_mds_coordinates = utils.getMDSMatrix(dist_matrix)\n",
    "\n",
    "# fig = px.sunburst(\n",
    "# sets,\n",
    "# names='character',\n",
    "# parents='parent',\n",
    "# values='value',\n",
    "# )\n",
    "# fig.show()\n",
    "\n",
    "\n",
    "utils.plotDistMatrix(df_mds_coordinates,setnames)"
   ]
  },
  {
   "cell_type": "code",
   "execution_count": null,
   "metadata": {},
   "outputs": [],
   "source": [
    "df_sets = pd.DataFrame([['C00.0','C02.0','C04.0','C05.0','C06.0'],['D00.0','C02.0','C04.0','C05.0','C06.0'],['D00.0','D02.0','C04.0','C05.0',\n",
    "            'C06.0'],['D00.0','D02.0','D04.0','C05.0','C06.0'],['D00.0','D02.0','D04.0','D05.0','C06.0']],index=setnames,columns=column_names)\n",
    "\n",
    "df_hd = df_sets.Hauptdiagnose.unique()\n",
    "nd = [df_sets[c].unique() for c in df_sets.columns[1:5]]\n",
    "nd_flat = flat_list = [item for sublist in nd for item in sublist]\n",
    "\n",
    "#ct = pd.crosstab(index=df_sets.Hauptdiagnose,columns=df_sets.columns,ag)\n",
    "#ct"
   ]
  },
  {
   "cell_type": "code",
   "execution_count": null,
   "metadata": {},
   "outputs": [],
   "source": []
  }
 ],
 "metadata": {
  "kernelspec": {
   "display_name": "Python 3.9.12 64-bit",
   "language": "python",
   "name": "python3"
  },
  "language_info": {
   "codemirror_mode": {
    "name": "ipython",
    "version": 3
   },
   "file_extension": ".py",
   "mimetype": "text/x-python",
   "name": "python",
   "nbconvert_exporter": "python",
   "pygments_lexer": "ipython3",
   "version": "3.9.12"
  },
  "orig_nbformat": 4,
  "vscode": {
   "interpreter": {
    "hash": "d69ddf455ed7367ee2995b6a7c713f4f45d9cf5e4bda3a402e8582b1691ab49a"
   }
  }
 },
 "nbformat": 4,
 "nbformat_minor": 2
}
