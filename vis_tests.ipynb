{
 "cells": [
  {
   "cell_type": "code",
   "execution_count": 1,
   "metadata": {},
   "outputs": [],
   "source": [
    "import sys\n",
    "import os\n",
    "sys.path.append(os.getcwd())\n",
    "from src.taxodist import td_utils as utils\n",
    "from src.taxodist import tree_parsers\n",
    "from src.taxodist import td_calc\n",
    "import pandas as pd\n",
    "import numpy as np\n",
    "import plotly.express as px\n",
    "import seaborn as sns\n",
    "import matplotlib.pylab as plt\n",
    "#plt.style.use(\"seaborn\")"
   ]
  },
  {
   "cell_type": "code",
   "execution_count": 2,
   "metadata": {},
   "outputs": [],
   "source": [
    "df_hd_moltb = pd.read_excel('analysis/resources/pseudo_icd10_hauptdiagnose_moltb.xlsx')\n",
    "df_pancreas_hd = df_hd_moltb[df_hd_moltb['ICD-10 Hauptdiagnose'].str.contains('C25')]\n",
    "\n",
    "df_moltb = pd.read_excel('analysis/resources/pseudo_icd10_moltb.xlsx')\n",
    "df_patient_icd = df_moltb.groupby(df_moltb.PseudoPatNr.name)['ICD'].agg(list).reset_index(name='ICD')\n",
    "df_pancreas_patient = df_patient_icd[df_patient_icd['PseudoPatNr'].isin(df_pancreas_hd['Pseudonym'])]\n",
    "\n",
    "pancreas_patient_array = df_pancreas_patient.to_numpy()\n",
    "pancreas_icd_sets = [set(icd_list) for patient, icd_list in pancreas_patient_array]\n"
   ]
  },
  {
   "cell_type": "code",
   "execution_count": null,
   "metadata": {},
   "outputs": [],
   "source": [
    "tree = tree_parsers.getICD10GMTree(version='2021')\n",
    "td = td_calc.Taxodist()\n",
    "# use taxodist to calculate similarity of all patients\n",
    "dist_matrix = td.calc_set_sim(pancreas_icd_sets,tree,'levels','nguyen_almubaid','bipartite_matching',normalize=False)\n",
    "\n",
    "df_mds_coordinates = utils.getMDSMatrix(dist_matrix)\n"
   ]
  },
  {
   "cell_type": "code",
   "execution_count": 3,
   "metadata": {},
   "outputs": [
    {
     "name": "stderr",
     "output_type": "stream",
     "text": [
      "c:\\Users\\Besitzer\\AppData\\Local\\Programs\\Python\\Python39\\lib\\site-packages\\sklearn\\manifold\\_mds.py:506: UserWarning: The MDS API has changed. ``fit`` now constructs an dissimilarity matrix from data. To use a custom dissimilarity matrix, set ``dissimilarity='precomputed'``.\n",
      "  warnings.warn(\n"
     ]
    },
    {
     "data": {
      "text/plain": [
       "<Figure size 72x14400 with 0 Axes>"
      ]
     },
     "metadata": {},
     "output_type": "display_data"
    },
    {
     "data": {
      "image/png": "[encoded data removed]",
      "text/plain": [
       "<Figure size 432x288 with 1 Axes>"
      ]
     },
     "metadata": {
      "needs_background": "light"
     },
     "output_type": "display_data"
    }
   ],
   "source": [
    "dist_matrix = pd.read_excel('analysis/generated/matrices/pancreas_pats_dist_L_NA_BIP.xlsx')\n",
    "df_mds_coordinates = utils.getMDSMatrix(dist_matrix)\n",
    "setnames = [str(patient) for patient, icd in enumerate(pancreas_patient_array)]\n",
    "plt.figure(figsize=(1,200))\n",
    "fig, ax = plt.subplots()\n",
    "df_mds_coordinates.plot(0, 1, kind='scatter', ax=ax)\n",
    "\n",
    "for k, v in df_mds_coordinates.iterrows():\n",
    "    ax.annotate(setnames[k], v)\n",
    "    \n",
    "plt.show()"
   ]
  },
  {
   "cell_type": "code",
   "execution_count": null,
   "metadata": {},
   "outputs": [],
   "source": [
    "dist_matrix"
   ]
  },
  {
   "cell_type": "code",
   "execution_count": null,
   "metadata": {},
   "outputs": [],
   "source": [
    "tree = tree_parsers.getICD10GMTree()\n",
    "depth = tree.depth()\n",
    "td = td_calc.Taxodist()\n",
    "\n",
    "set1 = {'C00.0','C02.0','C04.0','C05.0','C06.0'}\n",
    "set2 = {'D00.0','C02.0','C04.0','C05.0','C06.0'}\n",
    "set3 = {'D00.0','D02.0','C04.0','C05.0','C06.0'}\n",
    "set4 = {'D00.0','D02.0','D04.0','C05.0','C06.0'}\n",
    "set5 = {'D00.0','D02.0','D04.0','D05.0','C06.0'}\n",
    "\n",
    "# sets = [utils.getRandomConcepts(10,tree) for x in range(0,10)]\n",
    "sets = [set1,set2,set3,set4,set5]\n",
    "column_names=['Hauptdiagnose','ND1','ND2','ND3','ND4',]\n",
    "\n",
    "setnames = ['patient ' + str(x) for x in range(1,6)]"
   ]
  },
  {
   "cell_type": "code",
   "execution_count": null,
   "metadata": {},
   "outputs": [],
   "source": [
    "dist_matrix = td.calc_set_sim(sets,tree,'levels','nguyen_almubaid','bipartite_matching')\n",
    "sim_matrix = 1.0 - dist_matrix.round(3)\n",
    "df_mds_coordinates = utils.getMDSMatrix(dist_matrix)\n",
    "\n",
    "# fig = px.sunburst(\n",
    "# sets,\n",
    "# names='character',\n",
    "# parents='parent',\n",
    "# values='value',\n",
    "# )\n",
    "# fig.show()\n",
    "\n",
    "\n",
    "utils.plotDistMatrix(df_mds_coordinates,setnames)\n",
    "dist_matrix"
   ]
  },
  {
   "cell_type": "code",
   "execution_count": null,
   "metadata": {},
   "outputs": [],
   "source": [
    "dist_matrix = td.calc_set_sim(sets,tree,'levels','nguyen_almubaid','bipartite_matching',normalize=False)\n",
    "sim_matrix = 1.0 - dist_matrix.round(3)\n",
    "df_mds_coordinates = utils.getMDSMatrix(dist_matrix)\n",
    "\n",
    "# fig = px.sunburst(\n",
    "# sets,\n",
    "# names='character',\n",
    "# parents='parent',\n",
    "# values='value',\n",
    "# )\n",
    "# fig.show()\n",
    "\n",
    "\n",
    "utils.plotDistMatrix(df_mds_coordinates,setnames)"
   ]
  },
  {
   "cell_type": "code",
   "execution_count": null,
   "metadata": {},
   "outputs": [],
   "source": [
    "df_sets = pd.DataFrame([['C00.0','C02.0','C04.0','C05.0','C06.0'],['D00.0','C02.0','C04.0','C05.0','C06.0'],['D00.0','D02.0','C04.0','C05.0',\n",
    "            'C06.0'],['D00.0','D02.0','D04.0','C05.0','C06.0'],['D00.0','D02.0','D04.0','D05.0','C06.0']],index=setnames,columns=column_names)\n",
    "\n",
    "df_hd = df_sets.Hauptdiagnose.unique()\n",
    "nd = [df_sets[c].unique() for c in df_sets.columns[1:5]]\n",
    "nd_flat = flat_list = [item for sublist in nd for item in sublist]\n",
    "\n",
    "#ct = pd.crosstab(index=df_sets.Hauptdiagnose,columns=df_sets.columns,ag)\n",
    "#ct"
   ]
  },
  {
   "cell_type": "code",
   "execution_count": null,
   "metadata": {},
   "outputs": [],
   "source": []
  }
 ],
 "metadata": {
  "kernelspec": {
   "display_name": "Python 3.9.6 64-bit",
   "language": "python",
   "name": "python3"
  },
  "language_info": {
   "codemirror_mode": {
    "name": "ipython",
    "version": 3
   },
   "file_extension": ".py",
   "mimetype": "text/x-python",
   "name": "python",
   "nbconvert_exporter": "python",
   "pygments_lexer": "ipython3",
   "version": "3.9.6"
  },
  "orig_nbformat": 4,
  "vscode": {
   "interpreter": {
    "hash": "c615a9b4732d4ee6f80b9be2d4cc90e7e8efb9b8c706b5a26d1c216fc70885fe"
   }
  }
 },
 "nbformat": 4,
 "nbformat_minor": 2
}
